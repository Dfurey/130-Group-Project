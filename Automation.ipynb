{
 "cells": [
  {
   "cell_type": "markdown",
   "metadata": {},
   "source": [
    "Log File Analysis\n",
    "1. Select or Generate Log Files"
   ]
  },
  {
   "cell_type": "code",
   "execution_count": 2,
   "metadata": {},
   "outputs": [
    {
     "name": "stdout",
     "output_type": "stream",
     "text": [
      "Defaulting to user installation because normal site-packages is not writeable\n",
      "Requirement already satisfied: pandas in c:\\users\\dillon\\appdata\\local\\packages\\pythonsoftwarefoundation.python.3.12_qbz5n2kfra8p0\\localcache\\local-packages\\python312\\site-packages (2.2.3)\n",
      "Requirement already satisfied: numpy>=1.26.0 in c:\\users\\dillon\\appdata\\local\\packages\\pythonsoftwarefoundation.python.3.12_qbz5n2kfra8p0\\localcache\\local-packages\\python312\\site-packages (from pandas) (2.1.1)\n",
      "Requirement already satisfied: python-dateutil>=2.8.2 in c:\\users\\dillon\\appdata\\local\\packages\\pythonsoftwarefoundation.python.3.12_qbz5n2kfra8p0\\localcache\\local-packages\\python312\\site-packages (from pandas) (2.9.0.post0)\n",
      "Requirement already satisfied: pytz>=2020.1 in c:\\users\\dillon\\appdata\\local\\packages\\pythonsoftwarefoundation.python.3.12_qbz5n2kfra8p0\\localcache\\local-packages\\python312\\site-packages (from pandas) (2024.2)\n",
      "Requirement already satisfied: tzdata>=2022.7 in c:\\users\\dillon\\appdata\\local\\packages\\pythonsoftwarefoundation.python.3.12_qbz5n2kfra8p0\\localcache\\local-packages\\python312\\site-packages (from pandas) (2024.2)\n",
      "Requirement already satisfied: six>=1.5 in c:\\users\\dillon\\appdata\\local\\packages\\pythonsoftwarefoundation.python.3.12_qbz5n2kfra8p0\\localcache\\local-packages\\python312\\site-packages (from python-dateutil>=2.8.2->pandas) (1.16.0)\n",
      "Note: you may need to restart the kernel to use updated packages.\n"
     ]
    }
   ],
   "source": [
    "%pip install pandas"
   ]
  },
  {
   "cell_type": "markdown",
   "metadata": {},
   "source": [
    "2. Read and Parse the Log Files"
   ]
  },
  {
   "cell_type": "code",
   "execution_count": 3,
   "metadata": {},
   "outputs": [
    {
     "name": "stdout",
     "output_type": "stream",
     "text": [
      "      LineId        Date      Time Level Component  \\\n",
      "0          1  2016-09-28  04:30:30  Info       CBS   \n",
      "1          2  2016-09-28  04:30:31  Info       CSI   \n",
      "2          3  2016-09-28  04:30:31  Info       CSI   \n",
      "3          4  2016-09-28  04:30:31  Info       CSI   \n",
      "4          5  2016-09-28  04:30:31  Info       CBS   \n",
      "...      ...         ...       ...   ...       ...   \n",
      "1995    1996  2016-09-29  02:04:40  Info       CBS   \n",
      "1996    1997  2016-09-29  02:04:40  Info       CBS   \n",
      "1997    1998  2016-09-29  02:04:40  Info       CBS   \n",
      "1998    1999  2016-09-29  02:04:40  Info       CBS   \n",
      "1999    2000  2016-09-29  02:04:40  Info       CBS   \n",
      "\n",
      "                                                Content EventId  \\\n",
      "0     Loaded Servicing Stack v6.1.7601.23505 with Co...     E23   \n",
      "1     00000001@2016/9/27:20:30:31.455 WcpInitialize ...     E13   \n",
      "2     00000002@2016/9/27:20:30:31.458 WcpInitialize ...     E13   \n",
      "3     00000003@2016/9/27:20:30:31.458 WcpInitialize ...     E13   \n",
      "4               Ending TrustedInstaller initialization.     E17   \n",
      "...                                                 ...     ...   \n",
      "1995  Read out cached package applicability for pack...     E29   \n",
      "1996  Session: 30546354_3360174372 initialized by cl...     E36   \n",
      "1997  Read out cached package applicability for pack...     E29   \n",
      "1998  Session: 30546354_3363894584 initialized by cl...     E36   \n",
      "1999  Read out cached package applicability for pack...     E29   \n",
      "\n",
      "                                          EventTemplate  \n",
      "0     Loaded Servicing Stack <*> with Core: <*>\\cbsc...  \n",
      "1     <*>@<*>/<*>/<*>:<*>:<*>:<*>.<*> WcpInitialize ...  \n",
      "2     <*>@<*>/<*>/<*>:<*>:<*>:<*>.<*> WcpInitialize ...  \n",
      "3     <*>@<*>/<*>/<*>:<*>:<*>:<*>.<*> WcpInitialize ...  \n",
      "4               Ending TrustedInstaller initialization.  \n",
      "...                                                 ...  \n",
      "1995  Read out cached package applicability for pack...  \n",
      "1996  Session: <*>_<*> initialized by client Windows...  \n",
      "1997  Read out cached package applicability for pack...  \n",
      "1998  Session: <*>_<*> initialized by client Windows...  \n",
      "1999  Read out cached package applicability for pack...  \n",
      "\n",
      "[2000 rows x 8 columns]\n"
     ]
    }
   ],
   "source": [
    "import pandas as pd\n",
    "\n",
    "url = 'Windows_2k.log_structured.csv'\n",
    "logs = pd.read_csv(url)\n",
    "print(logs)"
   ]
  },
  {
   "cell_type": "markdown",
   "metadata": {},
   "source": [
    "3. Filter relevant data"
   ]
  },
  {
   "cell_type": "code",
   "execution_count": null,
   "metadata": {},
   "outputs": [
    {
     "name": "stdout",
     "output_type": "stream",
     "text": [
      "      LineId        Date      Time Level Component  \\\n",
      "13        14  2016-09-28  04:30:31  Info       CBS   \n",
      "25        26  2016-09-28  04:30:31  Info       CBS   \n",
      "28        29  2016-09-28  04:30:31  Info       CBS   \n",
      "31        32  2016-09-28  04:30:31  Info       CBS   \n",
      "34        35  2016-09-28  04:30:31  Info       CBS   \n",
      "...      ...         ...       ...   ...       ...   \n",
      "1410    1411  2016-09-29  02:03:48  Info       CBS   \n",
      "1413    1414  2016-09-29  02:03:48  Info       CBS   \n",
      "1416    1417  2016-09-29  02:03:48  Info       CBS   \n",
      "1419    1420  2016-09-29  02:03:48  Info       CBS   \n",
      "1422    1423  2016-09-29  02:03:48  Info       CBS   \n",
      "\n",
      "                                                Content EventId  \\\n",
      "13    SQM: Warning: Failed to upload all unsent repo...     E43   \n",
      "25     Warning: Unrecognized packageExtended attribute.     E50   \n",
      "28     Warning: Unrecognized packageExtended attribute.     E50   \n",
      "31     Warning: Unrecognized packageExtended attribute.     E50   \n",
      "34     Warning: Unrecognized packageExtended attribute.     E50   \n",
      "...                                                 ...     ...   \n",
      "1410   Warning: Unrecognized packageExtended attribute.     E50   \n",
      "1413   Warning: Unrecognized packageExtended attribute.     E50   \n",
      "1416   Warning: Unrecognized packageExtended attribute.     E50   \n",
      "1419   Warning: Unrecognized packageExtended attribute.     E50   \n",
      "1422   Warning: Unrecognized packageExtended attribute.     E50   \n",
      "\n",
      "                                          EventTemplate  \n",
      "13    SQM: Warning: Failed to upload all unsent repo...  \n",
      "25     Warning: Unrecognized packageExtended attribute.  \n",
      "28     Warning: Unrecognized packageExtended attribute.  \n",
      "31     Warning: Unrecognized packageExtended attribute.  \n",
      "34     Warning: Unrecognized packageExtended attribute.  \n",
      "...                                                 ...  \n",
      "1410   Warning: Unrecognized packageExtended attribute.  \n",
      "1413   Warning: Unrecognized packageExtended attribute.  \n",
      "1416   Warning: Unrecognized packageExtended attribute.  \n",
      "1419   Warning: Unrecognized packageExtended attribute.  \n",
      "1422   Warning: Unrecognized packageExtended attribute.  \n",
      "\n",
      "[282 rows x 8 columns]\n"
     ]
    }
   ],
   "source": [
    "sus_logs =  logs[logs['Content'].str.contains('Warning') | \n",
    "                        logs['Content'].str.contains('Fail')]\n",
    "\n",
    "print(sus_logs)"
   ]
  },
  {
   "cell_type": "markdown",
   "metadata": {},
   "source": [
    "4. Generate a summary report"
   ]
  },
  {
   "cell_type": "code",
   "execution_count": 9,
   "metadata": {},
   "outputs": [
    {
     "name": "stdout",
     "output_type": "stream",
     "text": [
      "Total suspicious logs found: 282\n",
      "LineId\n",
      "Date\n",
      "Time\n",
      "Level\n",
      "Component\n",
      "Content\n",
      "EventId\n",
      "EventTemplate\n",
      "\n"
     ]
    }
   ],
   "source": [
    "sum_report = open('summary_report.txt', 'w')\n",
    "sum_report.write(f\"Total suspicious logs found: {len(sus_logs)}\\n\")\n",
    "for log in sus_logs:\n",
    "    sum_report.write(log + '\\n')\n",
    "\n",
    "sum_report = open('summary_report.txt', 'r')\n",
    "report = sum_report.read()\n",
    "print(report)"
   ]
  },
  {
   "cell_type": "markdown",
   "metadata": {},
   "source": [
    "System performance monitoring\n",
    "1. Install psutil library"
   ]
  },
  {
   "cell_type": "markdown",
   "metadata": {},
   "source": [
    "2. Collect system metrics"
   ]
  },
  {
   "cell_type": "code",
   "execution_count": null,
   "metadata": {},
   "outputs": [],
   "source": [
    "import psutil\n",
    "#get CPU usage\n",
    "cpu_usage = psutil.cpu_percent(interval=1)\n",
    "print(f\"CPU Usage: {cpu_usage}%\")\n",
    "\n",
    "#get memory usage\n",
    "memory_info = psutil.virtual_memory()\n",
    "print(f\"Memory Usage: {memory_info.percent}%\")"
   ]
  },
  {
   "cell_type": "markdown",
   "metadata": {},
   "source": [
    "3. Log the performance data"
   ]
  },
  {
   "cell_type": "code",
   "execution_count": null,
   "metadata": {},
   "outputs": [],
   "source": [
    "f = open('performance_log.txt','a')\n",
    "f.write(f\"CPU: {cpu_usage}%, Memory: {memory_info.percent}%\\n\")"
   ]
  },
  {
   "cell_type": "markdown",
   "metadata": {},
   "source": [
    "4. Generate alerts for high usage"
   ]
  },
  {
   "cell_type": "code",
   "execution_count": null,
   "metadata": {},
   "outputs": [],
   "source": [
    "if cpu_usage > 90:\n",
    "    print(\"ALERT: High CPU usage detected!\")"
   ]
  },
  {
   "cell_type": "markdown",
   "metadata": {},
   "source": [
    "Alert generation\n",
    "1. Define the event to monitor"
   ]
  },
  {
   "cell_type": "markdown",
   "metadata": {},
   "source": [
    "2. Send alerts via email"
   ]
  },
  {
   "cell_type": "code",
   "execution_count": null,
   "metadata": {},
   "outputs": [],
   "source": [
    "import smtplib\n",
    "from email.message import EmailMessage\n",
    "\n",
    "def send_alert(subject, body):\n",
    "    msg = EmailMessage()\n",
    "    msg.set_content(body)\n",
    "    msg['Subject'] = subject\n",
    "    msg['From'] = 'dfurey2@gmu.edu'\n",
    "    msg['To'] = 'dillon.furey@gmail.com'\n",
    "    with smtplib.SMTP_SSL('smtp.gmail.com', 465) as smtp:\n",
    "    smtp.login('dfurey2@gmu.edu', 'temp_password')\n",
    "    smtp.send_message(msg)\n",
    "\n",
    "if cpu_usage > 90:\n",
    "    send_alert('High CPU Usage Alert', f'CPU Usage is {cpu_usage}%')"
   ]
  },
  {
   "cell_type": "markdown",
   "metadata": {},
   "source": [
    "3. Log alerts"
   ]
  },
  {
   "cell_type": "markdown",
   "metadata": {},
   "source": [
    "Automate routine security checks\n",
    "1. Install and use nmap for vulnerability scanning"
   ]
  },
  {
   "cell_type": "code",
   "execution_count": null,
   "metadata": {},
   "outputs": [],
   "source": [
    "import subprocess\n",
    "\n",
    "def run_nmap(target):\n",
    "    result = subprocess.run(['nmap', '-sV', target], capture_output=True, text=True)\n",
    "    print(result.stdout)\n",
    "\n",
    "run_nmap('127.0.0.1') #Scan localhost"
   ]
  },
  {
   "cell_type": "markdown",
   "metadata": {},
   "source": [
    "2. Monitor network traffic with scapy"
   ]
  },
  {
   "cell_type": "code",
   "execution_count": null,
   "metadata": {},
   "outputs": [],
   "source": [
    "from scapy.all import *\n",
    "def monitor_packets(pkt)\n",
    "    if pkt.haslayer(TCP) and pkt.haslayer(IP):\n",
    "        print(f\"Source IP: {pkt[IP].src}, Destination IP: {pkt[IP].dst}\")\n",
    "\n",
    "sniff(prn=monitor_packets, count = 10) #capturing 10 packets"
   ]
  }
 ],
 "metadata": {
  "kernelspec": {
   "display_name": "Python 3",
   "language": "python",
   "name": "python3"
  },
  "language_info": {
   "codemirror_mode": {
    "name": "ipython",
    "version": 3
   },
   "file_extension": ".py",
   "mimetype": "text/x-python",
   "name": "python",
   "nbconvert_exporter": "python",
   "pygments_lexer": "ipython3",
   "version": "3.12.7"
  }
 },
 "nbformat": 4,
 "nbformat_minor": 2
}
