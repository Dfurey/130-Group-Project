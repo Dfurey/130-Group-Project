{
 "cells": [
  {
   "cell_type": "markdown",
   "metadata": {},
   "source": [
    "Log File Analysis\n",
    "1. Select or Generate Log Files"
   ]
  },
  {
   "cell_type": "code",
   "execution_count": 27,
   "metadata": {},
   "outputs": [
    {
     "name": "stdout",
     "output_type": "stream",
     "text": [
      "Defaulting to user installation because normal site-packages is not writeableNote: you may need to restart the kernel to use updated packages.\n",
      "\n",
      "Requirement already satisfied: pandas in c:\\users\\dillon\\appdata\\local\\packages\\pythonsoftwarefoundation.python.3.12_qbz5n2kfra8p0\\localcache\\local-packages\\python312\\site-packages (2.2.3)\n",
      "Requirement already satisfied: numpy>=1.26.0 in c:\\users\\dillon\\appdata\\local\\packages\\pythonsoftwarefoundation.python.3.12_qbz5n2kfra8p0\\localcache\\local-packages\\python312\\site-packages (from pandas) (2.1.1)\n",
      "Requirement already satisfied: python-dateutil>=2.8.2 in c:\\users\\dillon\\appdata\\local\\packages\\pythonsoftwarefoundation.python.3.12_qbz5n2kfra8p0\\localcache\\local-packages\\python312\\site-packages (from pandas) (2.9.0.post0)\n"
     ]
    }
   ],
   "source": [
    "%pip install pandas"
   ]
  },
  {
   "cell_type": "markdown",
   "metadata": {},
   "source": [
    "2. Read and Parse the Log Files"
   ]
  },
  {
   "cell_type": "code",
   "execution_count": null,
   "metadata": {},
   "outputs": [
    {
     "name": "stdout",
     "output_type": "stream",
     "text": [
      "Requirement already satisfied: pytz>=2020.1 in c:\\users\\dillon\\appdata\\local\\packages\\pythonsoftwarefoundation.python.3.12_qbz5n2kfra8p0\\localcache\\local-packages\\python312\\site-packages (from pandas) (2024.2)\n"
     ]
    }
   ],
   "source": [
    "import pandas as pd\n",
    "\n",
    "#Selecting log files from part 1 here\n",
    "url = 'Windows_2k.log_structured.csv'\n",
    "logs = pd.read_csv(url)\n",
    "print(logs)"
   ]
  },
  {
   "cell_type": "markdown",
   "metadata": {},
   "source": [
    "3. Filter relevant data"
   ]
  },
  {
   "cell_type": "code",
   "execution_count": 29,
   "metadata": {},
   "outputs": [
    {
     "name": "stdout",
     "output_type": "stream",
     "text": [
      "      LineId        Date      Time Level Component  \\\n",
      "10        11  2016-09-28  04:30:31  Info       CBS   \n",
      "11        12  2016-09-28  04:30:31  Info       CBS   \n",
      "13        14  2016-09-28  04:30:31  Info       CBS   \n",
      "25        26  2016-09-28  04:30:31  Info       CBS   \n",
      "27        28  2016-09-28  04:30:31  Info       CBS   \n",
      "...      ...         ...       ...   ...       ...   \n",
      "1430    1431  2016-09-29  02:03:49  Info       CBS   \n",
      "1432    1433  2016-09-29  02:03:49  Info       CBS   \n",
      "1434    1435  2016-09-29  02:03:49  Info       CBS   \n",
      "1436    1437  2016-09-29  02:03:49  Info       CBS   \n",
      "1609    1610  2016-09-29  02:04:11  Info       CBS   \n",
      "\n",
      "                                                Content EventId  \\\n",
      "10    SQM: Failed to start upload with file pattern:...     E39   \n",
      "11    SQM: Failed to start standard sample upload. [...     E38   \n",
      "13    SQM: Warning: Failed to upload all unsent repo...     E43   \n",
      "25     Warning: Unrecognized packageExtended attribute.     E50   \n",
      "27    Failed to get next element [HRESULT = 0x800f08...     E20   \n",
      "...                                                 ...     ...   \n",
      "1430  Failed to internally open package. [HRESULT = ...     E21   \n",
      "1432  Failed to internally open package. [HRESULT = ...     E21   \n",
      "1434  Failed to internally open package. [HRESULT = ...     E21   \n",
      "1436  Failed to internally open package. [HRESULT = ...     E21   \n",
      "1609  Failed to internally open package. [HRESULT = ...     E21   \n",
      "\n",
      "                                          EventTemplate  \n",
      "10    SQM: Failed to start upload with file pattern:...  \n",
      "11    SQM: Failed to start standard sample upload. [...  \n",
      "13    SQM: Warning: Failed to upload all unsent repo...  \n",
      "25     Warning: Unrecognized packageExtended attribute.  \n",
      "27    Failed to get next element [HRESULT = <*> - CB...  \n",
      "...                                                 ...  \n",
      "1430  Failed to internally open package. [HRESULT = ...  \n",
      "1432  Failed to internally open package. [HRESULT = ...  \n",
      "1434  Failed to internally open package. [HRESULT = ...  \n",
      "1436  Failed to internally open package. [HRESULT = ...  \n",
      "1609  Failed to internally open package. [HRESULT = ...  \n",
      "\n",
      "[530 rows x 8 columns]\n"
     ]
    }
   ],
   "source": [
    "#combing through log files for suspicious activity, we chose warnings and failed login attempts\n",
    "sus_logs =  logs[logs['Content'].str.contains('Warning') | \n",
    "                        logs['Content'].str.contains('Failed')]\n",
    "\n",
    "print(sus_logs)"
   ]
  },
  {
   "cell_type": "markdown",
   "metadata": {},
   "source": [
    "4. Generate a summary report"
   ]
  },
  {
   "cell_type": "code",
   "execution_count": 30,
   "metadata": {},
   "outputs": [
    {
     "name": "stdout",
     "output_type": "stream",
     "text": [
      "Total suspicious logs found: 530\n",
      "LineId\n",
      "Date\n",
      "Time\n",
      "Level\n",
      "Component\n",
      "Content\n",
      "EventId\n",
      "EventTemplate\n",
      "\n"
     ]
    }
   ],
   "source": [
    "#this was our script to create a summary report of the logs, simply listing all the suspicious logs found\n",
    "sum_report = open('summary_report.txt', 'w')\n",
    "sum_report.write(f\"Total suspicious logs found: {len(sus_logs)}\\n\")\n",
    "for log in sus_logs:\n",
    "    sum_report.write(log + '\\n')\n",
    "\n",
    "sum_report = open('summary_report.txt', 'r')\n",
    "report = sum_report.read()\n",
    "print(report)"
   ]
  },
  {
   "cell_type": "markdown",
   "metadata": {},
   "source": [
    "System performance monitoring\n",
    "1. Install psutil library"
   ]
  },
  {
   "cell_type": "markdown",
   "metadata": {},
   "source": [
    "2. Collect system metrics"
   ]
  },
  {
   "cell_type": "code",
   "execution_count": 31,
   "metadata": {},
   "outputs": [
    {
     "name": "stdout",
     "output_type": "stream",
     "text": [
      "CPU Usage: 8.1%\n",
      "Memory Usage: 49.1%\n"
     ]
    }
   ],
   "source": [
    "import psutil\n",
    "#get CPU usage\n",
    "cpu_usage = psutil.cpu_percent(interval=1)\n",
    "print(f\"CPU Usage: {cpu_usage}%\")\n",
    "\n",
    "#get memory usage\n",
    "memory_info = psutil.virtual_memory()\n",
    "print(f\"Memory Usage: {memory_info.percent}%\")"
   ]
  },
  {
   "cell_type": "markdown",
   "metadata": {},
   "source": [
    "3. Log the performance data"
   ]
  },
  {
   "cell_type": "code",
   "execution_count": 32,
   "metadata": {},
   "outputs": [
    {
     "name": "stdout",
     "output_type": "stream",
     "text": [
      "CPU: 7.9%, Memory: 48.3%\n",
      "CPU: 7.9%, Memory: 48.3%\n",
      "CPU: 12.8%, Memory: 50.7%\n",
      "CPU: 5.3%, Memory: 44.2%\n",
      "CPU: 6.2%, Memory: 41.7%\n",
      "CPU: 10.3%, Memory: 49.2%\n",
      "CPU: 4.4%, Memory: 50.8%\n",
      "CPU: 8.1%, Memory: 49.1%\n",
      "\n"
     ]
    }
   ],
   "source": [
    "#Here we logged the data to a text file\n",
    "perf_logs = open('performance_log.txt','a')\n",
    "perf_logs.write(f\"CPU: {cpu_usage}%, Memory: {memory_info.percent}%\\n\")\n",
    "\n",
    "perf_logs = open('performance_log.txt', 'r')\n",
    "perf_report = perf_logs.read()\n",
    "print(perf_report)\n"
   ]
  },
  {
   "cell_type": "markdown",
   "metadata": {},
   "source": [
    "4. Generate alerts for high usage"
   ]
  },
  {
   "cell_type": "code",
   "execution_count": 33,
   "metadata": {},
   "outputs": [],
   "source": [
    "if cpu_usage > 90:\n",
    "    print(\"ALERT: High CPU usage detected!\")"
   ]
  },
  {
   "cell_type": "markdown",
   "metadata": {},
   "source": [
    "Alert generation\n",
    "1. Define the event to monitor"
   ]
  },
  {
   "cell_type": "markdown",
   "metadata": {},
   "source": [
    "2. Send alerts via email"
   ]
  },
  {
   "cell_type": "code",
   "execution_count": 38,
   "metadata": {},
   "outputs": [],
   "source": [
    "#Here we set up the email alert to send\n",
    "import smtplib\n",
    "from email.message import EmailMessage\n",
    "sender = 'cyse130g5@gmail.com'\n",
    "receiver = 'dillon.furey@gmail.com'\n",
    "password = 'giyu nrry bupm wawb'\n",
    "\n",
    "def send_alert(subject, body):\n",
    "    msg = EmailMessage()\n",
    "    msg.set_content(body)\n",
    "    msg['Subject'] = subject\n",
    "    msg['From'] = sender\n",
    "    msg['To'] = receiver\n",
    "\n",
    "    try:\n",
    "        with smtplib.SMTP_SSL('smtp.gmail.com', 465) as smtp:\n",
    "            smtp.login(sender, password)\n",
    "            smtp.send_message(msg)\n",
    "        print('Email sent successfully')\n",
    "    except Exception as failed:\n",
    "        print(f'Email failed to send: {failed}')\n",
    "\n",
    "\n",
    "\n",
    "if cpu_usage > 90:\n",
    "    send_alert('High CPU Usage Alert', f'CPU Usage is {cpu_usage}%')"
   ]
  },
  {
   "cell_type": "markdown",
   "metadata": {},
   "source": [
    "3. Log alerts"
   ]
  },
  {
   "cell_type": "markdown",
   "metadata": {},
   "source": [
    "Automate routine security checks\n",
    "1. Install and use nmap for vulnerability scanning"
   ]
  },
  {
   "cell_type": "code",
   "execution_count": 35,
   "metadata": {},
   "outputs": [
    {
     "name": "stdout",
     "output_type": "stream",
     "text": [
      "Starting Nmap 7.95 ( https://nmap.org ) at 2024-11-04 13:48 Eastern Standard Time\n",
      "Nmap scan report for localhost (127.0.0.1)\n",
      "Host is up (0.0010s latency).\n",
      "Not shown: 994 closed tcp ports (reset)\n",
      "PORT     STATE SERVICE       VERSION\n",
      "135/tcp  open  msrpc         Microsoft Windows RPC\n",
      "445/tcp  open  microsoft-ds?\n",
      "9000/tcp open  zmtp          ZeroMQ ZMTP 2.0\n",
      "9001/tcp open  zmtp          ZeroMQ ZMTP 2.0\n",
      "9002/tcp open  zmtp          ZeroMQ ZMTP 2.0\n",
      "9003/tcp open  zmtp          ZeroMQ ZMTP 2.0\n",
      "Service Info: OS: Windows; CPE: cpe:/o:microsoft:windows\n",
      "\n",
      "Service detection performed. Please report any incorrect results at https://nmap.org/submit/ .\n",
      "Nmap done: 1 IP address (1 host up) scanned in 7.06 seconds\n",
      "\n"
     ]
    }
   ],
   "source": [
    "import subprocess\n",
    "\n",
    "#here we used nmap to scan a generic host for vulnerable ports\n",
    "\n",
    "def run_nmap(target):\n",
    "    result = subprocess.run(['nmap', '-sV', target], capture_output=True, text=True)\n",
    "    print(result.stdout)\n",
    "\n",
    "run_nmap('127.0.0.1') #Scan localhost"
   ]
  },
  {
   "cell_type": "markdown",
   "metadata": {},
   "source": [
    "2. Monitor network traffic with scapy"
   ]
  },
  {
   "cell_type": "code",
   "execution_count": 36,
   "metadata": {},
   "outputs": [
    {
     "name": "stdout",
     "output_type": "stream",
     "text": [
      "Source IP: 10.151.218.133, Destination IP: 20.189.173.7\n",
      "Source IP: 10.151.218.133, Destination IP: 20.189.173.7\n",
      "Source IP: 10.151.218.133, Destination IP: 20.189.173.7\n",
      "Source IP: 20.189.173.7, Destination IP: 10.151.218.133\n",
      "Source IP: 20.189.173.7, Destination IP: 10.151.218.133\n",
      "Source IP: 162.159.136.234, Destination IP: 10.151.218.133\n",
      "Source IP: 10.151.218.133, Destination IP: 52.182.141.63\n"
     ]
    },
    {
     "data": {
      "text/plain": [
       "<Sniffed: TCP:7 UDP:3 ICMP:0 Other:0>"
      ]
     },
     "execution_count": 36,
     "metadata": {},
     "output_type": "execute_result"
    }
   ],
   "source": [
    "from scapy.all import *\n",
    "\n",
    "#captured network packets with scapy here\n",
    "\n",
    "def monitor_packets(pkt):\n",
    "    if pkt.haslayer(TCP) and pkt.haslayer(IP):\n",
    "        print(f\"Source IP: {pkt[IP].src}, Destination IP: {pkt[IP].dst}\")\n",
    "\n",
    "sniff(prn=monitor_packets, count = 10) #capturing 10 packets"
   ]
  }
 ],
 "metadata": {
  "kernelspec": {
   "display_name": "Python 3",
   "language": "python",
   "name": "python3"
  },
  "language_info": {
   "codemirror_mode": {
    "name": "ipython",
    "version": 3
   },
   "file_extension": ".py",
   "mimetype": "text/x-python",
   "name": "python",
   "nbconvert_exporter": "python",
   "pygments_lexer": "ipython3",
   "version": "3.12.7"
  }
 },
 "nbformat": 4,
 "nbformat_minor": 2
}
