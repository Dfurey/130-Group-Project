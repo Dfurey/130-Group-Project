{
 "cells": [
  {
   "cell_type": "markdown",
   "metadata": {},
   "source": [
    "Log File Analysis\n",
    "1. Select or Generate Log Files"
   ]
  },
  {
   "cell_type": "code",
   "execution_count": 38,
   "metadata": {},
   "outputs": [
    {
     "name": "stdout",
     "output_type": "stream",
     "text": [
      "Defaulting to user installation because normal site-packages is not writeable\n",
      "Requirement already satisfied: pandas in c:\\users\\dillon\\appdata\\local\\packages\\pythonsoftwarefoundation.python.3.12_qbz5n2kfra8p0\\localcache\\local-packages\\python312\\site-packages (2.2.3)\n",
      "Requirement already satisfied: numpy>=1.26.0 in c:\\users\\dillon\\appdata\\local\\packages\\pythonsoftwarefoundation.python.3.12_qbz5n2kfra8p0\\localcache\\local-packages\\python312\\site-packages (from pandas) (2.1.1)\n",
      "Requirement already satisfied: python-dateutil>=2.8.2 in c:\\users\\dillon\\appdata\\local\\packages\\pythonsoftwarefoundation.python.3.12_qbz5n2kfra8p0\\localcache\\local-packages\\python312\\site-packages (from pandas) (2.9.0.post0)\n",
      "Requirement already satisfied: pytz>=2020.1 in c:\\users\\dillon\\appdata\\local\\packages\\pythonsoftwarefoundation.python.3.12_qbz5n2kfra8p0\\localcache\\local-packages\\python312\\site-packages (from pandas) (2024.2)\n",
      "Requirement already satisfied: tzdata>=2022.7 in c:\\users\\dillon\\appdata\\local\\packages\\pythonsoftwarefoundation.python.3.12_qbz5n2kfra8p0\\localcache\\local-packages\\python312\\site-packages (from pandas) (2024.2)\n",
      "Requirement already satisfied: six>=1.5 in c:\\users\\dillon\\appdata\\local\\packages\\pythonsoftwarefoundation.python.3.12_qbz5n2kfra8p0\\localcache\\local-packages\\python312\\site-packages (from python-dateutil>=2.8.2->pandas) (1.16.0)\n",
      "Note: you may need to restart the kernel to use updated packages.\n"
     ]
    }
   ],
   "source": [
    "%pip install pandas"
   ]
  },
  {
   "cell_type": "markdown",
   "metadata": {},
   "source": [
    "2. Read and Parse the Log Files"
   ]
  },
  {
   "cell_type": "code",
   "execution_count": null,
   "metadata": {},
   "outputs": [
    {
     "data": {
      "text/html": [
       "<div>\n",
       "<style scoped>\n",
       "    .dataframe tbody tr th:only-of-type {\n",
       "        vertical-align: middle;\n",
       "    }\n",
       "\n",
       "    .dataframe tbody tr th {\n",
       "        vertical-align: top;\n",
       "    }\n",
       "\n",
       "    .dataframe thead th {\n",
       "        text-align: right;\n",
       "    }\n",
       "</style>\n",
       "<table border=\"1\" class=\"dataframe\">\n",
       "  <thead>\n",
       "    <tr style=\"text-align: right;\">\n",
       "      <th></th>\n",
       "      <th>LineId</th>\n",
       "      <th>Date</th>\n",
       "      <th>Time</th>\n",
       "      <th>Level</th>\n",
       "      <th>Component</th>\n",
       "      <th>Content</th>\n",
       "      <th>EventId</th>\n",
       "      <th>EventTemplate</th>\n",
       "    </tr>\n",
       "  </thead>\n",
       "  <tbody>\n",
       "    <tr>\n",
       "      <th>0</th>\n",
       "      <td>1</td>\n",
       "      <td>2016-09-28</td>\n",
       "      <td>04:30:30</td>\n",
       "      <td>Info</td>\n",
       "      <td>CBS</td>\n",
       "      <td>Loaded Servicing Stack v6.1.7601.23505 with Co...</td>\n",
       "      <td>E23</td>\n",
       "      <td>Loaded Servicing Stack &lt;*&gt; with Core: &lt;*&gt;\\cbsc...</td>\n",
       "    </tr>\n",
       "    <tr>\n",
       "      <th>1</th>\n",
       "      <td>2</td>\n",
       "      <td>2016-09-28</td>\n",
       "      <td>04:30:31</td>\n",
       "      <td>Info</td>\n",
       "      <td>CSI</td>\n",
       "      <td>00000001@2016/9/27:20:30:31.455 WcpInitialize ...</td>\n",
       "      <td>E13</td>\n",
       "      <td>&lt;*&gt;@&lt;*&gt;/&lt;*&gt;/&lt;*&gt;:&lt;*&gt;:&lt;*&gt;:&lt;*&gt;.&lt;*&gt; WcpInitialize ...</td>\n",
       "    </tr>\n",
       "    <tr>\n",
       "      <th>2</th>\n",
       "      <td>3</td>\n",
       "      <td>2016-09-28</td>\n",
       "      <td>04:30:31</td>\n",
       "      <td>Info</td>\n",
       "      <td>CSI</td>\n",
       "      <td>00000002@2016/9/27:20:30:31.458 WcpInitialize ...</td>\n",
       "      <td>E13</td>\n",
       "      <td>&lt;*&gt;@&lt;*&gt;/&lt;*&gt;/&lt;*&gt;:&lt;*&gt;:&lt;*&gt;:&lt;*&gt;.&lt;*&gt; WcpInitialize ...</td>\n",
       "    </tr>\n",
       "    <tr>\n",
       "      <th>3</th>\n",
       "      <td>4</td>\n",
       "      <td>2016-09-28</td>\n",
       "      <td>04:30:31</td>\n",
       "      <td>Info</td>\n",
       "      <td>CSI</td>\n",
       "      <td>00000003@2016/9/27:20:30:31.458 WcpInitialize ...</td>\n",
       "      <td>E13</td>\n",
       "      <td>&lt;*&gt;@&lt;*&gt;/&lt;*&gt;/&lt;*&gt;:&lt;*&gt;:&lt;*&gt;:&lt;*&gt;.&lt;*&gt; WcpInitialize ...</td>\n",
       "    </tr>\n",
       "    <tr>\n",
       "      <th>4</th>\n",
       "      <td>5</td>\n",
       "      <td>2016-09-28</td>\n",
       "      <td>04:30:31</td>\n",
       "      <td>Info</td>\n",
       "      <td>CBS</td>\n",
       "      <td>Ending TrustedInstaller initialization.</td>\n",
       "      <td>E17</td>\n",
       "      <td>Ending TrustedInstaller initialization.</td>\n",
       "    </tr>\n",
       "  </tbody>\n",
       "</table>\n",
       "</div>"
      ],
      "text/plain": [
       "   LineId        Date      Time Level Component  \\\n",
       "0       1  2016-09-28  04:30:30  Info       CBS   \n",
       "1       2  2016-09-28  04:30:31  Info       CSI   \n",
       "2       3  2016-09-28  04:30:31  Info       CSI   \n",
       "3       4  2016-09-28  04:30:31  Info       CSI   \n",
       "4       5  2016-09-28  04:30:31  Info       CBS   \n",
       "\n",
       "                                             Content EventId  \\\n",
       "0  Loaded Servicing Stack v6.1.7601.23505 with Co...     E23   \n",
       "1  00000001@2016/9/27:20:30:31.455 WcpInitialize ...     E13   \n",
       "2  00000002@2016/9/27:20:30:31.458 WcpInitialize ...     E13   \n",
       "3  00000003@2016/9/27:20:30:31.458 WcpInitialize ...     E13   \n",
       "4            Ending TrustedInstaller initialization.     E17   \n",
       "\n",
       "                                       EventTemplate  \n",
       "0  Loaded Servicing Stack <*> with Core: <*>\\cbsc...  \n",
       "1  <*>@<*>/<*>/<*>:<*>:<*>:<*>.<*> WcpInitialize ...  \n",
       "2  <*>@<*>/<*>/<*>:<*>:<*>:<*>.<*> WcpInitialize ...  \n",
       "3  <*>@<*>/<*>/<*>:<*>:<*>:<*>.<*> WcpInitialize ...  \n",
       "4            Ending TrustedInstaller initialization.  "
      ]
     },
     "execution_count": 39,
     "metadata": {},
     "output_type": "execute_result"
    }
   ],
   "source": [
    "import pandas as pd\n",
    "\n",
    "url = 'Windows_2k.log_structured.csv'\n",
    "logs = pd.read_csv(url)\n",
    "logs.head()"
   ]
  },
  {
   "cell_type": "markdown",
   "metadata": {},
   "source": [
    "3. Filter relevant data"
   ]
  },
  {
   "cell_type": "code",
   "execution_count": 43,
   "metadata": {},
   "outputs": [
    {
     "name": "stdout",
     "output_type": "stream",
     "text": [
      "[]\n"
     ]
    }
   ],
   "source": [
    "sus_logs = [line for line in logs if 'Warning' in logs['Content'] or 'Failed' in logs['Content']]\n",
    "print(sus_logs)"
   ]
  },
  {
   "cell_type": "markdown",
   "metadata": {},
   "source": [
    "4. Generate a summary report"
   ]
  },
  {
   "cell_type": "code",
   "execution_count": null,
   "metadata": {},
   "outputs": [
    {
     "ename": "AttributeError",
     "evalue": "'str' object has no attribute 'read'",
     "output_type": "error",
     "traceback": [
      "\u001b[1;31m---------------------------------------------------------------------------\u001b[0m",
      "\u001b[1;31mAttributeError\u001b[0m                            Traceback (most recent call last)",
      "Cell \u001b[1;32mIn[51], line 6\u001b[0m\n\u001b[0;32m      3\u001b[0m \u001b[38;5;28;01mfor\u001b[39;00m log \u001b[38;5;129;01min\u001b[39;00m sus_logs:\n\u001b[0;32m      4\u001b[0m     sum_report\u001b[38;5;241m.\u001b[39mwrite(log \u001b[38;5;241m+\u001b[39m \u001b[38;5;124m'\u001b[39m\u001b[38;5;130;01m\\n\u001b[39;00m\u001b[38;5;124m'\u001b[39m)\n\u001b[1;32m----> 6\u001b[0m report \u001b[38;5;241m=\u001b[39m \u001b[38;5;124;43m'\u001b[39;49m\u001b[38;5;124;43msummary_report.txt\u001b[39;49m\u001b[38;5;124;43m'\u001b[39;49m\u001b[38;5;241;43m.\u001b[39;49m\u001b[43mread\u001b[49m()\n\u001b[0;32m      7\u001b[0m \u001b[38;5;28mprint\u001b[39m(report)\n",
      "\u001b[1;31mAttributeError\u001b[0m: 'str' object has no attribute 'read'"
     ]
    }
   ],
   "source": [
    "sum_report = open('summary_report.txt', 'w')\n",
    "sum_report.write(f\"Total suspicious logs found: {len(sus_logs)}\\n\")\n",
    "for log in sus_logs:\n",
    "    sum_report.write(log + '\\n')\n",
    "\n",
    "report = summary_report.txt.read()\n",
    "print(report)"
   ]
  },
  {
   "cell_type": "markdown",
   "metadata": {},
   "source": [
    "System performance monitoring\n",
    "1. Install psutil library"
   ]
  },
  {
   "cell_type": "markdown",
   "metadata": {},
   "source": [
    "2. Collect system metrics"
   ]
  },
  {
   "cell_type": "code",
   "execution_count": null,
   "metadata": {},
   "outputs": [],
   "source": [
    "import psutil\n",
    "#get CPU usage\n",
    "cpu_usage = psutil.cpu_percent(interval=1)\n",
    "print(f\"CPU Usage: {cpu_usage}%\")\n",
    "\n",
    "#get memory usage\n",
    "memory_info = psutil.virtual_memory()\n",
    "print(f\"Memory Usage: {memory_info.percent}%\")"
   ]
  },
  {
   "cell_type": "markdown",
   "metadata": {},
   "source": [
    "3. Log the performance data"
   ]
  },
  {
   "cell_type": "code",
   "execution_count": null,
   "metadata": {},
   "outputs": [],
   "source": [
    "f = open('performance_log.txt','a')\n",
    "f.write(f\"CPU: {cpu_usage}%, Memory: {memory_info.percent}%\\n\")"
   ]
  },
  {
   "cell_type": "markdown",
   "metadata": {},
   "source": [
    "4. Generate alerts for high usage"
   ]
  },
  {
   "cell_type": "code",
   "execution_count": null,
   "metadata": {},
   "outputs": [],
   "source": [
    "if cpu_usage > 90:\n",
    "    print(\"ALERT: High CPU usage detected!\")"
   ]
  },
  {
   "cell_type": "markdown",
   "metadata": {},
   "source": [
    "Alert generation\n",
    "1. Define the event to monitor"
   ]
  },
  {
   "cell_type": "markdown",
   "metadata": {},
   "source": [
    "2. Send alerts via email"
   ]
  },
  {
   "cell_type": "code",
   "execution_count": null,
   "metadata": {},
   "outputs": [],
   "source": [
    "import smtplib\n",
    "from email.message import EmailMessage\n",
    "\n",
    "def send_alert(subject, body):\n",
    "    msg = EmailMessage()\n",
    "    msg.set_content(body)\n",
    "    msg['Subject'] = subject\n",
    "    msg['From'] = 'dfurey2@gmu.edu'\n",
    "    msg['To'] = 'dillon.furey@gmail.com'\n",
    "    with smtplib.SMTP_SSL('smtp.gmail.com', 465) as smtp:\n",
    "    smtp.login('dfurey2@gmu.edu', 'temp_password')\n",
    "    smtp.send_message(msg)\n",
    "\n",
    "if cpu_usage > 90:\n",
    "    send_alert('High CPU Usage Alert', f'CPU Usage is {cpu_usage}%')"
   ]
  },
  {
   "cell_type": "markdown",
   "metadata": {},
   "source": [
    "3. Log alerts"
   ]
  },
  {
   "cell_type": "markdown",
   "metadata": {},
   "source": [
    "Automate routine security checks\n",
    "1. Install and use nmap for vulnerability scanning"
   ]
  },
  {
   "cell_type": "code",
   "execution_count": null,
   "metadata": {},
   "outputs": [],
   "source": [
    "import subprocess\n",
    "\n",
    "def run_nmap(target):\n",
    "    result = subprocess.run(['nmap', '-sV', target], capture_output=True, text=True)\n",
    "    print(result.stdout)\n",
    "\n",
    "run_nmap('127.0.0.1') #Scan localhost"
   ]
  },
  {
   "cell_type": "markdown",
   "metadata": {},
   "source": [
    "2. Monitor network traffic with scapy"
   ]
  },
  {
   "cell_type": "code",
   "execution_count": null,
   "metadata": {},
   "outputs": [],
   "source": [
    "from scapy.all import *\n",
    "def monitor_packets(pkt)\n",
    "    if pkt.haslayer(TCP) and pkt.haslayer(IP):\n",
    "        print(f\"Source IP: {pkt[IP].src}, Destination IP: {pkt[IP].dst}\")\n",
    "\n",
    "sniff(prn=monitor_packets, count = 10) #capturing 10 packets"
   ]
  }
 ],
 "metadata": {
  "kernelspec": {
   "display_name": "Python 3",
   "language": "python",
   "name": "python3"
  },
  "language_info": {
   "codemirror_mode": {
    "name": "ipython",
    "version": 3
   },
   "file_extension": ".py",
   "mimetype": "text/x-python",
   "name": "python",
   "nbconvert_exporter": "python",
   "pygments_lexer": "ipython3",
   "version": "3.12.7"
  }
 },
 "nbformat": 4,
 "nbformat_minor": 2
}
