{
 "cells": [
  {
   "cell_type": "markdown",
   "metadata": {},
   "source": [
    "Log File Analysis\n",
    "1. Select or Generate Log Files"
   ]
  },
  {
   "cell_type": "code",
   "execution_count": 33,
   "metadata": {},
   "outputs": [
    {
     "name": "stdout",
     "output_type": "stream",
     "text": [
      "Defaulting to user installation because normal site-packages is not writeableNote: you may need to restart the kernel to use updated packages.\n",
      "\n",
      "Requirement already satisfied: pandas in c:\\users\\dillon\\appdata\\local\\packages\\pythonsoftwarefoundation.python.3.12_qbz5n2kfra8p0\\localcache\\local-packages\\python312\\site-packages (2.2.3)\n",
      "Requirement already satisfied: numpy>=1.26.0 in c:\\users\\dillon\\appdata\\local\\packages\\pythonsoftwarefoundation.python.3.12_qbz5n2kfra8p0\\localcache\\local-packages\\python312\\site-packages (from pandas) (2.1.1)\n",
      "Requirement already satisfied: python-dateutil>=2.8.2 in c:\\users\\dillon\\appdata\\local\\packages\\pythonsoftwarefoundation.python.3.12_qbz5n2kfra8p0\\localcache\\local-packages\\python312\\site-packages (from pandas) (2.9.0.post0)\n",
      "Requirement already satisfied: pytz>=2020.1 in c:\\users\\dillon\\appdata\\local\\packages\\pythonsoftwarefoundation.python.3.12_qbz5n2kfra8p0\\localcache\\local-packages\\python312\\site-packages (from pandas) (2024.2)\n",
      "Requirement already satisfied: tzdata>=2022.7 in c:\\users\\dillon\\appdata\\local\\packages\\pythonsoftwarefoundation.python.3.12_qbz5n2kfra8p0\\localcache\\local-packages\\python312\\site-packages (from pandas) (2024.2)\n",
      "Requirement already satisfied: six>=1.5 in c:\\users\\dillon\\appdata\\local\\packages\\pythonsoftwarefoundation.python.3.12_qbz5n2kfra8p0\\localcache\\local-packages\\python312\\site-packages (from python-dateutil>=2.8.2->pandas) (1.16.0)\n"
     ]
    }
   ],
   "source": [
    "%pip install pandas"
   ]
  },
  {
   "cell_type": "markdown",
   "metadata": {},
   "source": [
    "2. Read and Parse the Log Files"
   ]
  },
  {
   "cell_type": "code",
   "execution_count": 34,
   "metadata": {},
   "outputs": [
    {
     "name": "stdout",
     "output_type": "stream",
     "text": [
      "      LineId        Date      Time Level Component  \\\n",
      "0          1  2016-09-28  04:30:30  Info       CBS   \n",
      "1          2  2016-09-28  04:30:31  Info       CSI   \n",
      "2          3  2016-09-28  04:30:31  Info       CSI   \n",
      "3          4  2016-09-28  04:30:31  Info       CSI   \n",
      "4          5  2016-09-28  04:30:31  Info       CBS   \n",
      "...      ...         ...       ...   ...       ...   \n",
      "1995    1996  2016-09-29  02:04:40  Info       CBS   \n",
      "1996    1997  2016-09-29  02:04:40  Info       CBS   \n",
      "1997    1998  2016-09-29  02:04:40  Info       CBS   \n",
      "1998    1999  2016-09-29  02:04:40  Info       CBS   \n",
      "1999    2000  2016-09-29  02:04:40  Info       CBS   \n",
      "\n",
      "                                                Content EventId  \\\n",
      "0     Loaded Servicing Stack v6.1.7601.23505 with Co...     E23   \n",
      "1     00000001@2016/9/27:20:30:31.455 WcpInitialize ...     E13   \n",
      "2     00000002@2016/9/27:20:30:31.458 WcpInitialize ...     E13   \n",
      "3     00000003@2016/9/27:20:30:31.458 WcpInitialize ...     E13   \n",
      "4               Ending TrustedInstaller initialization.     E17   \n",
      "...                                                 ...     ...   \n",
      "1995  Read out cached package applicability for pack...     E29   \n",
      "1996  Session: 30546354_3360174372 initialized by cl...     E36   \n",
      "1997  Read out cached package applicability for pack...     E29   \n",
      "1998  Session: 30546354_3363894584 initialized by cl...     E36   \n",
      "1999  Read out cached package applicability for pack...     E29   \n",
      "\n",
      "                                          EventTemplate  \n",
      "0     Loaded Servicing Stack <*> with Core: <*>\\cbsc...  \n",
      "1     <*>@<*>/<*>/<*>:<*>:<*>:<*>.<*> WcpInitialize ...  \n",
      "2     <*>@<*>/<*>/<*>:<*>:<*>:<*>.<*> WcpInitialize ...  \n",
      "3     <*>@<*>/<*>/<*>:<*>:<*>:<*>.<*> WcpInitialize ...  \n",
      "4               Ending TrustedInstaller initialization.  \n",
      "...                                                 ...  \n",
      "1995  Read out cached package applicability for pack...  \n",
      "1996  Session: <*>_<*> initialized by client Windows...  \n",
      "1997  Read out cached package applicability for pack...  \n",
      "1998  Session: <*>_<*> initialized by client Windows...  \n",
      "1999  Read out cached package applicability for pack...  \n",
      "\n",
      "[2000 rows x 8 columns]\n"
     ]
    }
   ],
   "source": [
    "import pandas as pd\n",
    "\n",
    "url = 'Windows_2k.log_structured.csv'\n",
    "logs = pd.read_csv(url)\n",
    "print(logs)"
   ]
  },
  {
   "cell_type": "markdown",
   "metadata": {},
   "source": [
    "3. Filter relevant data"
   ]
  },
  {
   "cell_type": "code",
   "execution_count": 35,
   "metadata": {},
   "outputs": [
    {
     "name": "stdout",
     "output_type": "stream",
     "text": [
      "      LineId        Date      Time Level Component  \\\n",
      "10        11  2016-09-28  04:30:31  Info       CBS   \n",
      "11        12  2016-09-28  04:30:31  Info       CBS   \n",
      "13        14  2016-09-28  04:30:31  Info       CBS   \n",
      "25        26  2016-09-28  04:30:31  Info       CBS   \n",
      "27        28  2016-09-28  04:30:31  Info       CBS   \n",
      "...      ...         ...       ...   ...       ...   \n",
      "1430    1431  2016-09-29  02:03:49  Info       CBS   \n",
      "1432    1433  2016-09-29  02:03:49  Info       CBS   \n",
      "1434    1435  2016-09-29  02:03:49  Info       CBS   \n",
      "1436    1437  2016-09-29  02:03:49  Info       CBS   \n",
      "1609    1610  2016-09-29  02:04:11  Info       CBS   \n",
      "\n",
      "                                                Content EventId  \\\n",
      "10    SQM: Failed to start upload with file pattern:...     E39   \n",
      "11    SQM: Failed to start standard sample upload. [...     E38   \n",
      "13    SQM: Warning: Failed to upload all unsent repo...     E43   \n",
      "25     Warning: Unrecognized packageExtended attribute.     E50   \n",
      "27    Failed to get next element [HRESULT = 0x800f08...     E20   \n",
      "...                                                 ...     ...   \n",
      "1430  Failed to internally open package. [HRESULT = ...     E21   \n",
      "1432  Failed to internally open package. [HRESULT = ...     E21   \n",
      "1434  Failed to internally open package. [HRESULT = ...     E21   \n",
      "1436  Failed to internally open package. [HRESULT = ...     E21   \n",
      "1609  Failed to internally open package. [HRESULT = ...     E21   \n",
      "\n",
      "                                          EventTemplate  \n",
      "10    SQM: Failed to start upload with file pattern:...  \n",
      "11    SQM: Failed to start standard sample upload. [...  \n",
      "13    SQM: Warning: Failed to upload all unsent repo...  \n",
      "25     Warning: Unrecognized packageExtended attribute.  \n",
      "27    Failed to get next element [HRESULT = <*> - CB...  \n",
      "...                                                 ...  \n",
      "1430  Failed to internally open package. [HRESULT = ...  \n",
      "1432  Failed to internally open package. [HRESULT = ...  \n",
      "1434  Failed to internally open package. [HRESULT = ...  \n",
      "1436  Failed to internally open package. [HRESULT = ...  \n",
      "1609  Failed to internally open package. [HRESULT = ...  \n",
      "\n",
      "[530 rows x 8 columns]\n"
     ]
    }
   ],
   "source": [
    "sus_logs =  logs[logs['Content'].str.contains('Warning') | \n",
    "                        logs['Content'].str.contains('Failed')]\n",
    "\n",
    "print(sus_logs)"
   ]
  },
  {
   "cell_type": "markdown",
   "metadata": {},
   "source": [
    "4. Generate a summary report"
   ]
  },
  {
   "cell_type": "code",
   "execution_count": 36,
   "metadata": {},
   "outputs": [
    {
     "name": "stdout",
     "output_type": "stream",
     "text": [
      "Total suspicious logs found: 530\n",
      "LineId\n",
      "Date\n",
      "Time\n",
      "Level\n",
      "Component\n",
      "Content\n",
      "EventId\n",
      "EventTemplate\n",
      "\n"
     ]
    }
   ],
   "source": [
    "sum_report = open('summary_report.txt', 'w')\n",
    "sum_report.write(f\"Total suspicious logs found: {len(sus_logs)}\\n\")\n",
    "for log in sus_logs:\n",
    "    sum_report.write(log + '\\n')\n",
    "\n",
    "sum_report = open('summary_report.txt', 'r')\n",
    "report = sum_report.read()\n",
    "print(report)"
   ]
  },
  {
   "cell_type": "markdown",
   "metadata": {},
   "source": [
    "System performance monitoring\n",
    "1. Install psutil library"
   ]
  },
  {
   "cell_type": "markdown",
   "metadata": {},
   "source": [
    "2. Collect system metrics"
   ]
  },
  {
   "cell_type": "code",
   "execution_count": 37,
   "metadata": {},
   "outputs": [
    {
     "name": "stdout",
     "output_type": "stream",
     "text": [
      "CPU Usage: 5.3%\n",
      "Memory Usage: 44.2%\n"
     ]
    }
   ],
   "source": [
    "import psutil\n",
    "#get CPU usage\n",
    "cpu_usage = psutil.cpu_percent(interval=1)\n",
    "print(f\"CPU Usage: {cpu_usage}%\")\n",
    "\n",
    "#get memory usage\n",
    "memory_info = psutil.virtual_memory()\n",
    "print(f\"Memory Usage: {memory_info.percent}%\")"
   ]
  },
  {
   "cell_type": "markdown",
   "metadata": {},
   "source": [
    "3. Log the performance data"
   ]
  },
  {
   "cell_type": "code",
   "execution_count": 38,
   "metadata": {},
   "outputs": [
    {
     "name": "stdout",
     "output_type": "stream",
     "text": [
      "CPU: 7.9%, Memory: 48.3%\n",
      "CPU: 7.9%, Memory: 48.3%\n",
      "CPU: 12.8%, Memory: 50.7%\n",
      "CPU: 5.3%, Memory: 44.2%\n",
      "\n"
     ]
    }
   ],
   "source": [
    "perf_logs = open('performance_log.txt','a')\n",
    "perf_logs.write(f\"CPU: {cpu_usage}%, Memory: {memory_info.percent}%\\n\")\n",
    "\n",
    "perf_logs = open('performance_log.txt', 'r')\n",
    "perf_report = perf_logs.read()\n",
    "print(perf_report)\n"
   ]
  },
  {
   "cell_type": "markdown",
   "metadata": {},
   "source": [
    "4. Generate alerts for high usage"
   ]
  },
  {
   "cell_type": "code",
   "execution_count": 39,
   "metadata": {},
   "outputs": [],
   "source": [
    "if cpu_usage > 90:\n",
    "    print(\"ALERT: High CPU usage detected!\")"
   ]
  },
  {
   "cell_type": "markdown",
   "metadata": {},
   "source": [
    "Alert generation\n",
    "1. Define the event to monitor"
   ]
  },
  {
   "cell_type": "markdown",
   "metadata": {},
   "source": [
    "2. Send alerts via email"
   ]
  },
  {
   "cell_type": "code",
   "execution_count": null,
   "metadata": {},
   "outputs": [
    {
     "ename": "SMTPAuthenticationError",
     "evalue": "(535, b'5.7.8 Username and Password not accepted. For more information, go to\\n5.7.8  https://support.google.com/mail/?p=BadCredentials d75a77b69052e-462ad089aacsm19895471cf.20 - gsmtp')",
     "output_type": "error",
     "traceback": [
      "\u001b[1;31m---------------------------------------------------------------------------\u001b[0m",
      "\u001b[1;31mSMTPAuthenticationError\u001b[0m                   Traceback (most recent call last)",
      "Cell \u001b[1;32mIn[44], line 18\u001b[0m\n\u001b[0;32m     15\u001b[0m         smtp\u001b[38;5;241m.\u001b[39msend_message(msg)\n\u001b[0;32m     17\u001b[0m \u001b[38;5;28;01mif\u001b[39;00m cpu_usage \u001b[38;5;241m>\u001b[39m \u001b[38;5;241m5\u001b[39m:\n\u001b[1;32m---> 18\u001b[0m     \u001b[43msend_alert\u001b[49m\u001b[43m(\u001b[49m\u001b[38;5;124;43m'\u001b[39;49m\u001b[38;5;124;43mHigh CPU Usage Alert\u001b[39;49m\u001b[38;5;124;43m'\u001b[39;49m\u001b[43m,\u001b[49m\u001b[43m \u001b[49m\u001b[38;5;124;43mf\u001b[39;49m\u001b[38;5;124;43m'\u001b[39;49m\u001b[38;5;124;43mCPU Usage is \u001b[39;49m\u001b[38;5;132;43;01m{\u001b[39;49;00m\u001b[43mcpu_usage\u001b[49m\u001b[38;5;132;43;01m}\u001b[39;49;00m\u001b[38;5;124;43m%\u001b[39;49m\u001b[38;5;124;43m'\u001b[39;49m\u001b[43m)\u001b[49m\n",
      "Cell \u001b[1;32mIn[44], line 14\u001b[0m, in \u001b[0;36msend_alert\u001b[1;34m(subject, body)\u001b[0m\n\u001b[0;32m     12\u001b[0m msg[\u001b[38;5;124m'\u001b[39m\u001b[38;5;124mTo\u001b[39m\u001b[38;5;124m'\u001b[39m] \u001b[38;5;241m=\u001b[39m receiver\n\u001b[0;32m     13\u001b[0m \u001b[38;5;28;01mwith\u001b[39;00m smtplib\u001b[38;5;241m.\u001b[39mSMTP_SSL(\u001b[38;5;124m'\u001b[39m\u001b[38;5;124msmtp.gmail.com\u001b[39m\u001b[38;5;124m'\u001b[39m, \u001b[38;5;241m465\u001b[39m) \u001b[38;5;28;01mas\u001b[39;00m smtp:\n\u001b[1;32m---> 14\u001b[0m     \u001b[43msmtp\u001b[49m\u001b[38;5;241;43m.\u001b[39;49m\u001b[43mlogin\u001b[49m\u001b[43m(\u001b[49m\u001b[43msender\u001b[49m\u001b[43m,\u001b[49m\u001b[43m \u001b[49m\u001b[43mpassword\u001b[49m\u001b[43m)\u001b[49m\n\u001b[0;32m     15\u001b[0m     smtp\u001b[38;5;241m.\u001b[39msend_message(msg)\n",
      "File \u001b[1;32mC:\\Program Files\\WindowsApps\\PythonSoftwareFoundation.Python.3.12_3.12.2032.0_x64__qbz5n2kfra8p0\\Lib\\smtplib.py:750\u001b[0m, in \u001b[0;36mSMTP.login\u001b[1;34m(self, user, password, initial_response_ok)\u001b[0m\n\u001b[0;32m    747\u001b[0m         last_exception \u001b[38;5;241m=\u001b[39m e\n\u001b[0;32m    749\u001b[0m \u001b[38;5;66;03m# We could not login successfully.  Return result of last attempt.\u001b[39;00m\n\u001b[1;32m--> 750\u001b[0m \u001b[38;5;28;01mraise\u001b[39;00m last_exception\n",
      "File \u001b[1;32mC:\\Program Files\\WindowsApps\\PythonSoftwareFoundation.Python.3.12_3.12.2032.0_x64__qbz5n2kfra8p0\\Lib\\smtplib.py:739\u001b[0m, in \u001b[0;36mSMTP.login\u001b[1;34m(self, user, password, initial_response_ok)\u001b[0m\n\u001b[0;32m    737\u001b[0m method_name \u001b[38;5;241m=\u001b[39m \u001b[38;5;124m'\u001b[39m\u001b[38;5;124mauth_\u001b[39m\u001b[38;5;124m'\u001b[39m \u001b[38;5;241m+\u001b[39m authmethod\u001b[38;5;241m.\u001b[39mlower()\u001b[38;5;241m.\u001b[39mreplace(\u001b[38;5;124m'\u001b[39m\u001b[38;5;124m-\u001b[39m\u001b[38;5;124m'\u001b[39m, \u001b[38;5;124m'\u001b[39m\u001b[38;5;124m_\u001b[39m\u001b[38;5;124m'\u001b[39m)\n\u001b[0;32m    738\u001b[0m \u001b[38;5;28;01mtry\u001b[39;00m:\n\u001b[1;32m--> 739\u001b[0m     (code, resp) \u001b[38;5;241m=\u001b[39m \u001b[38;5;28;43mself\u001b[39;49m\u001b[38;5;241;43m.\u001b[39;49m\u001b[43mauth\u001b[49m\u001b[43m(\u001b[49m\n\u001b[0;32m    740\u001b[0m \u001b[43m        \u001b[49m\u001b[43mauthmethod\u001b[49m\u001b[43m,\u001b[49m\u001b[43m \u001b[49m\u001b[38;5;28;43mgetattr\u001b[39;49m\u001b[43m(\u001b[49m\u001b[38;5;28;43mself\u001b[39;49m\u001b[43m,\u001b[49m\u001b[43m \u001b[49m\u001b[43mmethod_name\u001b[49m\u001b[43m)\u001b[49m\u001b[43m,\u001b[49m\n\u001b[0;32m    741\u001b[0m \u001b[43m        \u001b[49m\u001b[43minitial_response_ok\u001b[49m\u001b[38;5;241;43m=\u001b[39;49m\u001b[43minitial_response_ok\u001b[49m\u001b[43m)\u001b[49m\n\u001b[0;32m    742\u001b[0m     \u001b[38;5;66;03m# 235 == 'Authentication successful'\u001b[39;00m\n\u001b[0;32m    743\u001b[0m     \u001b[38;5;66;03m# 503 == 'Error: already authenticated'\u001b[39;00m\n\u001b[0;32m    744\u001b[0m     \u001b[38;5;28;01mif\u001b[39;00m code \u001b[38;5;129;01min\u001b[39;00m (\u001b[38;5;241m235\u001b[39m, \u001b[38;5;241m503\u001b[39m):\n",
      "File \u001b[1;32mC:\\Program Files\\WindowsApps\\PythonSoftwareFoundation.Python.3.12_3.12.2032.0_x64__qbz5n2kfra8p0\\Lib\\smtplib.py:662\u001b[0m, in \u001b[0;36mSMTP.auth\u001b[1;34m(self, mechanism, authobject, initial_response_ok)\u001b[0m\n\u001b[0;32m    660\u001b[0m \u001b[38;5;28;01mif\u001b[39;00m code \u001b[38;5;129;01min\u001b[39;00m (\u001b[38;5;241m235\u001b[39m, \u001b[38;5;241m503\u001b[39m):\n\u001b[0;32m    661\u001b[0m     \u001b[38;5;28;01mreturn\u001b[39;00m (code, resp)\n\u001b[1;32m--> 662\u001b[0m \u001b[38;5;28;01mraise\u001b[39;00m SMTPAuthenticationError(code, resp)\n",
      "\u001b[1;31mSMTPAuthenticationError\u001b[0m: (535, b'5.7.8 Username and Password not accepted. For more information, go to\\n5.7.8  https://support.google.com/mail/?p=BadCredentials d75a77b69052e-462ad089aacsm19895471cf.20 - gsmtp')"
     ]
    }
   ],
   "source": [
    "import smtplib\n",
    "from email.message import EmailMessage\n",
    "sender = 'dfurey2@gmu.edu'\n",
    "receiver = 'dillon.furey@gmail.com'\n",
    "password = 'Your password here'\n",
    "\n",
    "def send_alert(subject, body):\n",
    "    msg = EmailMessage()\n",
    "    msg.set_content(body)\n",
    "    msg['Subject'] = subject\n",
    "    msg['From'] = sender\n",
    "    msg['To'] = receiver\n",
    "    with smtplib.SMTP_SSL('smtp.gmail.com', 465) as smtp:\n",
    "        smtp.login(sender, password)\n",
    "        smtp.send_message(msg)\n",
    "\n",
    "if cpu_usage > 5:\n",
    "    send_alert('High CPU Usage Alert', f'CPU Usage is {cpu_usage}%')"
   ]
  },
  {
   "cell_type": "markdown",
   "metadata": {},
   "source": [
    "3. Log alerts"
   ]
  },
  {
   "cell_type": "markdown",
   "metadata": {},
   "source": [
    "Automate routine security checks\n",
    "1. Install and use nmap for vulnerability scanning"
   ]
  },
  {
   "cell_type": "code",
   "execution_count": null,
   "metadata": {},
   "outputs": [],
   "source": [
    "import subprocess\n",
    "\n",
    "def run_nmap(target):\n",
    "    result = subprocess.run(['nmap', '-sV', target], capture_output=True, text=True)\n",
    "    print(result.stdout)\n",
    "\n",
    "run_nmap('127.0.0.1') #Scan localhost"
   ]
  },
  {
   "cell_type": "markdown",
   "metadata": {},
   "source": [
    "2. Monitor network traffic with scapy"
   ]
  },
  {
   "cell_type": "code",
   "execution_count": null,
   "metadata": {},
   "outputs": [],
   "source": [
    "from scapy.all import *\n",
    "def monitor_packets(pkt)\n",
    "    if pkt.haslayer(TCP) and pkt.haslayer(IP):\n",
    "        print(f\"Source IP: {pkt[IP].src}, Destination IP: {pkt[IP].dst}\")\n",
    "\n",
    "sniff(prn=monitor_packets, count = 10) #capturing 10 packets"
   ]
  }
 ],
 "metadata": {
  "kernelspec": {
   "display_name": "Python 3",
   "language": "python",
   "name": "python3"
  },
  "language_info": {
   "codemirror_mode": {
    "name": "ipython",
    "version": 3
   },
   "file_extension": ".py",
   "mimetype": "text/x-python",
   "name": "python",
   "nbconvert_exporter": "python",
   "pygments_lexer": "ipython3",
   "version": "3.12.7"
  }
 },
 "nbformat": 4,
 "nbformat_minor": 2
}
